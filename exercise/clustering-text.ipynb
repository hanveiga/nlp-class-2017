{
 "cells": [
  {
   "cell_type": "code",
   "execution_count": 1,
   "metadata": {
    "collapsed": true
   },
   "outputs": [],
   "source": [
    "#The 20 Newsgroups data set is a collection of approximately 20,000 newsgroup documents,\n",
    "#partitioned (nearly) evenly across 20 different newsgroups. To the best of our knowledge,\n",
    "#it was originally collected by Ken Lang, probably for his paper \n",
    "#“Newsweeder: Learning to filter netnews,” though he does not explicitly mention this\n",
    "#collection.\n",
    "#The 20 newsgroups collection has become a popular data set for experiments\n",
    "#in text applications of machine learning techniques, such as text classification \n",
    "#and text clustering."
   ]
  },
  {
   "cell_type": "code",
   "execution_count": 12,
   "metadata": {
    "collapsed": true
   },
   "outputs": [],
   "source": [
    "# selecting labels \n",
    "categories = ['alt.atheism', 'soc.religion.christian', 'comp.graphics', 'sci.med']"
   ]
  },
  {
   "cell_type": "code",
   "execution_count": 13,
   "metadata": {
    "collapsed": false
   },
   "outputs": [],
   "source": [
    "import sklearn\n",
    "from sklearn.datasets import fetch_20newsgroups\n",
    "\n",
    "dataset = sklearn.datasets.load_files(\"../text_analytics/data/twenty_newsgroups/20news-bydate-train/\", categories = categories, load_content=True, shuffle=True, encoding='UTF-8', decode_error='replace', random_state=0)"
   ]
  },
  {
   "cell_type": "code",
   "execution_count": null,
   "metadata": {
    "collapsed": false
   },
   "outputs": [],
   "source": []
  },
  {
   "cell_type": "code",
   "execution_count": 24,
   "metadata": {
    "collapsed": false
   },
   "outputs": [],
   "source": [
    "# Tokenisation\n",
    "from sklearn.feature_extraction.text import CountVectorizer\n",
    "count_vect = CountVectorizer(stop_words=None)\n",
    "X_train_counts = count_vect.fit_transform(dataset.data)\n"
   ]
  },
  {
   "cell_type": "code",
   "execution_count": 16,
   "metadata": {
    "collapsed": false
   },
   "outputs": [],
   "source": [
    "# How many times does GPU appear?\n",
    "# How many words in total does your dictionary have?\n",
    "# Which words are the most common?"
   ]
  },
  {
   "cell_type": "code",
   "execution_count": 17,
   "metadata": {
    "collapsed": false
   },
   "outputs": [],
   "source": [
    "from sklearn.feature_extraction.text import TfidfVectorizer\n",
    "# Feature representation\n",
    "\n",
    "#TF_IDF\n",
    "tfidf_transformer = TfidfVectorizer(stop_words=None)\n",
    "X_train_tfidf = tfidf_transformer.fit_transform(dataset.data)\n"
   ]
  },
  {
   "cell_type": "code",
   "execution_count": 20,
   "metadata": {
    "collapsed": false
   },
   "outputs": [],
   "source": [
    "import numpy as np\n",
    "\n",
    "dataset_test = sklearn.datasets.load_files(\"../text_analytics/data/twenty_newsgroups/20news-bydate-test/\", categories=categories, load_content=True, shuffle=True, encoding='UTF-8', decode_error='replace', random_state=42)\n",
    "\n",
    "X_test = tfidf_transformer.transform(dataset_test.data)\n",
    "\n",
    "labels = dataset_test.target\n",
    "true_k = np.unique(labels).shape[0]"
   ]
  },
  {
   "cell_type": "code",
   "execution_count": 21,
   "metadata": {
    "collapsed": false
   },
   "outputs": [
    {
     "data": {
      "text/plain": [
       "KMeans(algorithm='auto', copy_x=True, init='k-means++', max_iter=100,\n",
       "    n_clusters=4, n_init=1, n_jobs=1, precompute_distances='auto',\n",
       "    random_state=None, tol=0.0001, verbose=0)"
      ]
     },
     "execution_count": 21,
     "metadata": {},
     "output_type": "execute_result"
    }
   ],
   "source": [
    "from sklearn.cluster import KMeans\n",
    "# TODO: perform KMeans clustering\n",
    "km = KMeans(n_clusters=..., init='k-means++', max_iter=100, n_init=1)\n",
    "km.fit(...)"
   ]
  },
  {
   "cell_type": "code",
   "execution_count": 22,
   "metadata": {
    "collapsed": false
   },
   "outputs": [
    {
     "name": "stdout",
     "output_type": "stream",
     "text": [
      "Homogeneity: 0.428\n",
      "Completeness: 0.453\n",
      "V-measure: 0.440\n",
      "Adjusted Rand-Index: 0.418\n",
      "Silhouette Coefficient: 0.005\n"
     ]
    }
   ],
   "source": [
    "from sklearn import metrics\n",
    "print(\"Homogeneity: %0.3f\" % metrics.homogeneity_score(labels, km.labels_))\n",
    "print(\"Completeness: %0.3f\" % metrics.completeness_score(labels, km.labels_))\n",
    "print(\"V-measure: %0.3f\" % metrics.v_measure_score(labels, km.labels_))\n",
    "print(\"Adjusted Rand-Index: %.3f\"\n",
    "      % metrics.adjusted_rand_score(labels, km.labels_))\n",
    "print(\"Silhouette Coefficient: %0.3f\"\n",
    "      % metrics.silhouette_score(X_test, km.labels_, sample_size=1000))\n",
    "\n",
    "# TODO: What do these measures mean?"
   ]
  },
  {
   "cell_type": "code",
   "execution_count": 23,
   "metadata": {
    "collapsed": false
   },
   "outputs": [
    {
     "name": "stdout",
     "output_type": "stream",
     "text": [
      "Top terms per cluster:\n",
      "Cluster 0:\n",
      " homosexuality\n",
      " homosexual\n",
      " church\n",
      " god\n",
      " paul\n",
      " edu\n",
      " christianity\n",
      " gay\n",
      " issues\n",
      " sin\n",
      "Cluster 1:\n",
      " god\n",
      " edu\n",
      " mary\n",
      " sin\n",
      " com\n",
      " religion\n",
      " people\n",
      " don\n",
      " christian\n",
      " believe\n",
      "Cluster 2:\n",
      " com\n",
      " edu\n",
      " article\n",
      " writes\n",
      " medical\n",
      " subject\n",
      " lines\n",
      " sgi\n",
      " organization\n",
      " cancer\n",
      "Cluster 3:\n",
      " edu\n",
      " graphics\n",
      " university\n",
      " subject\n",
      " lines\n",
      " organization\n",
      " image\n",
      " computer\n",
      " ac\n",
      " thanks\n"
     ]
    }
   ],
   "source": [
    "print(\"Top terms per cluster:\")\n",
    "# TODO: top words per cluster\n",
    "order_centroids = ...\n",
    "\n",
    "terms = count_vect.get_feature_names()\n",
    "for i in range(true_k):\n",
    "    print(\"Cluster %d:\" % i)\n",
    "    for ind in order_centroids[i, :10]:\n",
    "        print(' %s' % terms[ind])\n"
   ]
  },
  {
   "cell_type": "code",
   "execution_count": 29,
   "metadata": {
    "collapsed": true
   },
   "outputs": [],
   "source": [
    "# TODO: \n",
    "# How does it perform?\n",
    "# What happens if you limit the feature space? e.g. Exclude certain stop words?\n",
    "\n",
    "# TODO:\n",
    "# Can you load other categories?\n",
    "# Which categories are the most easy to cluster?\n",
    "\n",
    "# TODO:\n",
    "# What happens if we don't know the number of clusters? "
   ]
  },
  {
   "cell_type": "code",
   "execution_count": 30,
   "metadata": {
    "collapsed": true
   },
   "outputs": [],
   "source": [
    "# OTHER THOUGHTS:\n",
    "# Can you cluster based in similarity? (Cosine distance)\n",
    "# What's a nice way to visualise this data?"
   ]
  },
  {
   "cell_type": "code",
   "execution_count": null,
   "metadata": {
    "collapsed": true
   },
   "outputs": [],
   "source": []
  }
 ],
 "metadata": {
  "kernelspec": {
   "display_name": "Python 2",
   "language": "python",
   "name": "python2"
  },
  "language_info": {
   "codemirror_mode": {
    "name": "ipython",
    "version": 2
   },
   "file_extension": ".py",
   "mimetype": "text/x-python",
   "name": "python",
   "nbconvert_exporter": "python",
   "pygments_lexer": "ipython2",
   "version": "2.7.13"
  }
 },
 "nbformat": 4,
 "nbformat_minor": 0
}
