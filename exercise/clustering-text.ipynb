{
 "cells": [
  {
   "cell_type": "code",
   "execution_count": 1,
   "metadata": {
    "collapsed": true
   },
   "outputs": [],
   "source": [
    "#The 20 Newsgroups data set is a collection of approximately 20,000 newsgroup documents,\n",
    "#partitioned (nearly) evenly across 20 different newsgroups. To the best of our knowledge,\n",
    "#it was originally collected by Ken Lang, probably for his paper \n",
    "#“Newsweeder: Learning to filter netnews,” though he does not explicitly mention this\n",
    "#collection.\n",
    "#The 20 newsgroups collection has become a popular data set for experiments\n",
    "#in text applications of machine learning techniques, such as text classification \n",
    "#and text clustering."
   ]
  },
  {
   "cell_type": "code",
   "execution_count": 2,
   "metadata": {
    "collapsed": true
   },
   "outputs": [],
   "source": [
    "# selecting labels \n",
    "categories = ['talk.politics.guns', 'sci.crypt', 'sci.space', 'sci.med']"
   ]
  },
  {
   "cell_type": "code",
   "execution_count": 3,
   "metadata": {
    "collapsed": false
   },
   "outputs": [],
   "source": [
    "import sklearn\n",
    "from sklearn.datasets import fetch_20newsgroups\n",
    "\n",
    "dataset = sklearn.datasets.load_files(\"../text_analytics/data/twenty_newsgroups/20news-bydate-train/\", categories = categories, load_content=True, shuffle=True, encoding='UTF-8', decode_error='replace', random_state=0)"
   ]
  },
  {
   "cell_type": "code",
   "execution_count": 4,
   "metadata": {
    "collapsed": false
   },
   "outputs": [],
   "source": [
    "# Tokenisation\n",
    "from sklearn.feature_extraction.text import CountVectorizer\n",
    "count_vect = CountVectorizer(stop_words=None)\n",
    "X_train_counts = count_vect.fit_transform(dataset.data)\n"
   ]
  },
  {
   "cell_type": "code",
   "execution_count": 5,
   "metadata": {
    "collapsed": false
   },
   "outputs": [],
   "source": [
    "from sklearn.feature_extraction.text import TfidfVectorizer\n",
    "#TF_IDF\n",
    "tfidf_transformer = TfidfVectorizer(stop_words=\"english\")\n",
    "X_train_tfidf = tfidf_transformer.fit_transform(dataset.data)\n"
   ]
  },
  {
   "cell_type": "code",
   "execution_count": 20,
   "metadata": {
    "collapsed": false
   },
   "outputs": [],
   "source": [
    "import numpy as np\n",
    "\n",
    "dataset_test = sklearn.datasets.load_files(\"../text_analytics/data/twenty_newsgroups/20news-bydate-test/\", categories=categories, load_content=True, shuffle=True, encoding='UTF-8', decode_error='replace', random_state=42)\n",
    "\n",
    "X_test = tfidf_transformer.transform(dataset_test.data)\n",
    "\n",
    "labels = dataset_test.target\n",
    "\n",
    "# TODO: What is the following line doing?\n",
    "true_k = np.unique(labels).shape[0]"
   ]
  },
  {
   "cell_type": "code",
   "execution_count": 21,
   "metadata": {
    "collapsed": false
   },
   "outputs": [
    {
     "data": {
      "text/plain": [
       "KMeans(algorithm='auto', copy_x=True, init='k-means++', max_iter=100,\n",
       "    n_clusters=4, n_init=1, n_jobs=1, precompute_distances='auto',\n",
       "    random_state=None, tol=0.0001, verbose=0)"
      ]
     },
     "execution_count": 21,
     "metadata": {},
     "output_type": "execute_result"
    }
   ],
   "source": [
    "from sklearn.cluster import KMeans\n",
    "# TODO: perform KMeans clustering\n",
    "km = KMeans(n_clusters=..., init='k-means++', max_iter=100, n_init=1)\n",
    "km.fit(...)"
   ]
  },
  {
   "cell_type": "code",
   "execution_count": 22,
   "metadata": {
    "collapsed": false
   },
   "outputs": [
    {
     "name": "stdout",
     "output_type": "stream",
     "text": [
      "Homogeneity: 0.428\n",
      "Completeness: 0.453\n",
      "V-measure: 0.440\n",
      "Adjusted Rand-Index: 0.418\n",
      "Silhouette Coefficient: 0.005\n"
     ]
    }
   ],
   "source": [
    "from sklearn import metrics\n",
    "print(\"Homogeneity: %0.3f\" % metrics.homogeneity_score(labels, km.labels_))\n",
    "print(\"Completeness: %0.3f\" % metrics.completeness_score(labels, km.labels_))\n",
    "print(\"V-measure: %0.3f\" % metrics.v_measure_score(labels, km.labels_))\n",
    "print(\"Adjusted Rand-Index: %.3f\"\n",
    "      % metrics.adjusted_rand_score(labels, km.labels_))\n",
    "print(\"Silhouette Coefficient: %0.3f\"\n",
    "      % metrics.silhouette_score(X_test, km.labels_, sample_size=1000))\n",
    "\n",
    "# TODO: What do these measures mean?"
   ]
  },
  {
   "cell_type": "code",
   "execution_count": 6,
   "metadata": {
    "collapsed": false
   },
   "outputs": [
    {
     "ename": "SyntaxError",
     "evalue": "invalid syntax (<ipython-input-6-51a10722fca3>, line 3)",
     "output_type": "error",
     "traceback": [
      "\u001b[0;36m  File \u001b[0;32m\"<ipython-input-6-51a10722fca3>\"\u001b[0;36m, line \u001b[0;32m3\u001b[0m\n\u001b[0;31m    order_centroids = ...\u001b[0m\n\u001b[0m                      ^\u001b[0m\n\u001b[0;31mSyntaxError\u001b[0m\u001b[0;31m:\u001b[0m invalid syntax\n"
     ]
    }
   ],
   "source": [
    "print(\"Top terms per cluster:\")\n",
    "# TODO: top words per cluster\n",
    "order_centroids = ...\n",
    "\n",
    "terms = count_vect.get_feature_names()\n",
    "for i in range(true_k):\n",
    "    print(\"Cluster %d:\" % i)\n",
    "    for ind in order_centroids[i, :10]:\n",
    "        print(' %s' % terms[ind])\n"
   ]
  },
  {
   "cell_type": "code",
   "execution_count": 29,
   "metadata": {
    "collapsed": true
   },
   "outputs": [],
   "source": [
    "# TODO: How does it perform?\n",
    "\n",
    "# TODO: Which categories are the most easy to cluster?\n",
    "\n",
    "# TODO: What happens if we don't know the number of clusters? "
   ]
  },
  {
   "cell_type": "code",
   "execution_count": 30,
   "metadata": {
    "collapsed": true
   },
   "outputs": [],
   "source": [
    "# OTHER THOUGHTS:\n",
    "# Can you cluster based in similarity? (Cosine distance)\n",
    "# What's a nice way to visualise this data?"
   ]
  },
  {
   "cell_type": "code",
   "execution_count": null,
   "metadata": {
    "collapsed": true
   },
   "outputs": [],
   "source": [
    "top_terms_matrix = []\n",
    "for x in X_test:\n",
    "    xc = x.tocsr()\n",
    "    xs = zip(xc.indices,xc.data)\n",
    "    top_terms = [ a for a,b in sorted(xs, key = lambda x: xs[1])[0:4]]\n",
    "    top_terms_matrix.append( top_terms )\n",
    "    #print 'next'"
   ]
  }
 ],
 "metadata": {
  "kernelspec": {
   "display_name": "Python 2",
   "language": "python",
   "name": "python2"
  },
  "language_info": {
   "codemirror_mode": {
    "name": "ipython",
    "version": 2
   },
   "file_extension": ".py",
   "mimetype": "text/x-python",
   "name": "python",
   "nbconvert_exporter": "python",
   "pygments_lexer": "ipython2",
   "version": "2.7.13"
  }
 },
 "nbformat": 4,
 "nbformat_minor": 0
}
