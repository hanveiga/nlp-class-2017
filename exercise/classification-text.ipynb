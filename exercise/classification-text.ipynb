{
 "cells": [
  {
   "cell_type": "code",
   "execution_count": null,
   "metadata": {
    "collapsed": true
   },
   "outputs": [],
   "source": [
    "#The 20 Newsgroups data set is a collection of approximately 20,000 newsgroup documents,\n",
    "#partitioned (nearly) evenly across 20 different newsgroups. To the best of our knowledge,\n",
    "#it was originally collected by Ken Lang, probably for his paper \n",
    "#“Newsweeder: Learning to filter netnews,” though he does not explicitly mention this\n",
    "#collection.\n",
    "#The 20 newsgroups collection has become a popular data set for experiments\n",
    "#in text applications of machine learning techniques, such as text classification \n",
    "#and text clustering."
   ]
  },
  {
   "cell_type": "code",
   "execution_count": 1,
   "metadata": {
    "collapsed": true
   },
   "outputs": [],
   "source": [
    "# In this exercise you should build a classifier that attributes a label\n",
    "#to emails from newsgroups.\n",
    "\n",
    "# selecting labels \n",
    "categories = ['alt.atheism', 'soc.religion.christian', 'comp.graphics', 'sci.med']"
   ]
  },
  {
   "cell_type": "code",
   "execution_count": 3,
   "metadata": {
    "collapsed": false
   },
   "outputs": [],
   "source": [
    "import sklearn\n",
    "from sklearn.datasets import fetch_20newsgroups\n",
    "\n",
    "dataset = sklearn.datasets.load_files(\"../text_analytics/data/twenty_newsgroups/20news-bydate-train/\", categories=categories, load_content=True, shuffle=True, encoding='UTF-8', decode_error='replace', random_state=0)"
   ]
  },
  {
   "cell_type": "code",
   "execution_count": 17,
   "metadata": {
    "collapsed": false
   },
   "outputs": [
    {
     "name": "stdout",
     "output_type": "stream",
     "text": [
      "['alt.atheism', 'comp.graphics', 'sci.med', 'soc.religion.christian']\n",
      "content:  From: yoo@engr.ucf.edu (Hoi Yoo)\n",
      "Subject: looking for USA map\n",
      "Organization: engineering, University of Central Florida, Orlando\n",
      "Lines: 11\n",
      "\n",
      "\n",
      "\n",
      "Does anyone out there have or know of,  line drawing USA map?\n",
      "\n",
      "\n",
      "Thanks very much in advance,\n",
      "Hoi\n",
      "\n",
      "\n",
      "yoo@engr.ucf.edu\n",
      "\n",
      "\n",
      "label:  comp.graphics\n"
     ]
    }
   ],
   "source": [
    "# You can explore the data a bit\n",
    "print dataset.target_names # labels\n",
    "print 'content: ', dataset.data[1] #document content\n",
    "print 'label: ', dataset.target_names[dataset.target[1]] #label of document 1\n"
   ]
  },
  {
   "cell_type": "code",
   "execution_count": 87,
   "metadata": {
    "collapsed": false
   },
   "outputs": [],
   "source": [
    "# Tokenisation\n",
    "from sklearn.feature_extraction.text import CountVectorizer\n",
    "count_vect = CountVectorizer()\n",
    "X_train_counts = count_vect.fit_transform(dataset.data)\n"
   ]
  },
  {
   "cell_type": "code",
   "execution_count": 61,
   "metadata": {
    "collapsed": false
   },
   "outputs": [],
   "source": [
    "# TODO: How many words in total does your dictionary have?\n",
    "# TODO: Which words are the most common?\n",
    "\n",
    "# TODO: What's the difference between fit, transform and fit_transform?"
   ]
  },
  {
   "cell_type": "code",
   "execution_count": 88,
   "metadata": {
    "collapsed": false
   },
   "outputs": [],
   "source": [
    "from sklearn.feature_extraction.text import TfidfTransformer\n",
    "# Feature representation\n",
    "# TODO:\n",
    "# TF_IDF vectorization\n",
    "tfidf_transformer = ... \n",
    "X_train_tfidf = ..."
   ]
  },
  {
   "cell_type": "code",
   "execution_count": 80,
   "metadata": {
    "collapsed": false
   },
   "outputs": [],
   "source": [
    "# Classifier\n",
    "from sklearn.naive_bayes import MultinomialNB\n",
    "# TODO:\n",
    "clf = MultinomialNB().fit( ... , ...)"
   ]
  },
  {
   "cell_type": "code",
   "execution_count": 89,
   "metadata": {
    "collapsed": false
   },
   "outputs": [
    {
     "name": "stdout",
     "output_type": "stream",
     "text": [
      "'God is love' => soc.religion.christian\n",
      "'OpenGL on the GPU is fast' => comp.graphics\n"
     ]
    }
   ],
   "source": [
    "# Try your classifier out.\n",
    "# e.g.:\n",
    "docs_new = ['God is love', 'OpenGL on the GPU is fast']\n",
    "X_new_counts = count_vect.transform(docs_new)\n",
    "X_new_tfidf = tfidf_transformer.transform(X_new_counts)\n",
    "\n",
    "predicted = clf.predict(X_new_tfidf)\n",
    "\n",
    "for doc, category in zip(docs_new, predicted):\n",
    "     print('%r => %s' % (doc, dataset.target_names[category]))\n",
    "        \n",
    "#TODO:\n",
    "your_docs = [ ... , ...]\n",
    "your_X_new_counts = ...\n",
    "your_X_new_tfidf = ...\n",
    "\n",
    "your_predicted = clf.predict(your_X_new_tfidf)\n",
    "\n",
    "for doc, category in zip(your_docs, your_predicted):\n",
    "     print('%r => %s' % (doc, dataset.target_names[category]))\n",
    "        \n"
   ]
  },
  {
   "cell_type": "code",
   "execution_count": 90,
   "metadata": {
    "collapsed": true
   },
   "outputs": [],
   "source": [
    "# To simplify things, use a pipeline\n",
    "from sklearn.pipeline import Pipeline\n",
    "text_clf = Pipeline([('vect', CountVectorizer()),\n",
    "                    ('tfidf', TfidfTransformer()),\n",
    "                      ('clf', MultinomialNB()),\n",
    "                        ])"
   ]
  },
  {
   "cell_type": "code",
   "execution_count": 91,
   "metadata": {
    "collapsed": false
   },
   "outputs": [
    {
     "data": {
      "text/plain": [
       "0.83488681757656458"
      ]
     },
     "execution_count": 91,
     "metadata": {},
     "output_type": "execute_result"
    }
   ],
   "source": [
    "import numpy as np\n",
    "\n",
    "#Load the test dataset and vectorize the documents using the previous vectorizer\n",
    "dataset_test = sklearn.datasets.load_files(\"../text_analytics/data/twenty_newsgroups/20news-bydate-test/\", categories=categories, load_content=True, shuffle=True, encoding='UTF-8', decode_error='replace', random_state=42)\n",
    "docs_test = dataset_test.data\n",
    "\n",
    "# Training the classifier with train data\n",
    "text_clf = text_clf.fit(dataset.data, dataset.target)\n",
    "\n",
    "#TODO:\n",
    "predicted = ...\n",
    "np.mean(predicted == dataset_test.target)"
   ]
  },
  {
   "cell_type": "code",
   "execution_count": null,
   "metadata": {
    "collapsed": true
   },
   "outputs": [],
   "source": [
    "# What happens if you change the classifier?\n",
    "# Can you change the vectorizer?\n",
    "# What happens if you exclude stop words or limit the size of the dictionary?\n",
    "# Try with other classes.\n",
    "# What does the last number printed mean?"
   ]
  }
 ],
 "metadata": {
  "kernelspec": {
   "display_name": "Python 2",
   "language": "python",
   "name": "python2"
  },
  "language_info": {
   "codemirror_mode": {
    "name": "ipython",
    "version": 2
   },
   "file_extension": ".py",
   "mimetype": "text/x-python",
   "name": "python",
   "nbconvert_exporter": "python",
   "pygments_lexer": "ipython2",
   "version": "2.7.13"
  }
 },
 "nbformat": 4,
 "nbformat_minor": 0
}
