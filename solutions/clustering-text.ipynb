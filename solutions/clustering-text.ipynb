{
 "cells": [
  {
   "cell_type": "code",
   "execution_count": 1,
   "metadata": {
    "collapsed": true
   },
   "outputs": [],
   "source": [
    "#The 20 Newsgroups data set is a collection of approximately 20,000 newsgroup documents,\n",
    "#partitioned (nearly) evenly across 20 different newsgroups. To the best of our knowledge,\n",
    "#it was originally collected by Ken Lang, probably for his paper \n",
    "#“Newsweeder: Learning to filter netnews,” though he does not explicitly mention this\n",
    "#collection.\n",
    "#The 20 newsgroups collection has become a popular data set for experiments\n",
    "#in text applications of machine learning techniques, such as text classification \n",
    "#and text clustering."
   ]
  },
  {
   "cell_type": "code",
   "execution_count": 34,
   "metadata": {
    "collapsed": true
   },
   "outputs": [],
   "source": [
    "# selecting labels \n",
    "categories = ['alt.atheism', 'soc.religion.christian', 'comp.graphics', 'sci.med']"
   ]
  },
  {
   "cell_type": "code",
   "execution_count": 35,
   "metadata": {
    "collapsed": false
   },
   "outputs": [],
   "source": [
    "import sklearn\n",
    "from sklearn.datasets import fetch_20newsgroups\n",
    "\n",
    "dataset = sklearn.datasets.load_files(\"text_analytics/data/twenty_newsgroups/20news-bydate-train/\", load_content=True, shuffle=True, encoding='UTF-8', decode_error='replace', random_state=0)"
   ]
  },
  {
   "cell_type": "code",
   "execution_count": 36,
   "metadata": {
    "collapsed": false
   },
   "outputs": [
    {
     "name": "stdout",
     "output_type": "stream",
     "text": [
      "['alt.atheism', 'comp.graphics', 'comp.os.ms-windows.misc', 'comp.sys.ibm.pc.hardware', 'comp.sys.mac.hardware', 'comp.windows.x', 'misc.forsale', 'rec.autos', 'rec.motorcycles', 'rec.sport.baseball', 'rec.sport.hockey', 'sci.crypt', 'sci.electronics', 'sci.med', 'sci.space', 'soc.religion.christian', 'talk.politics.guns', 'talk.politics.mideast', 'talk.politics.misc', 'talk.religion.misc']\n",
      "From: cubbie@garnet.berkeley.edu (                               )\n",
      "Subject: Re: Cubs behind Marlins? How?\n",
      "Article-I.D.: agate.1pt592$f9a\n",
      "rec.sport.baseball\n"
     ]
    }
   ],
   "source": [
    "# You can explore the data a bit\n",
    "print dataset.target_names\n",
    "print(\"\\n\".join(dataset.data[0].split(\"\\n\")[:3]))\n",
    "print(dataset.target_names[dataset.target[0]])\n"
   ]
  },
  {
   "cell_type": "code",
   "execution_count": 37,
   "metadata": {
    "collapsed": false
   },
   "outputs": [],
   "source": [
    "# Tokenisation\n",
    "from sklearn.feature_extraction.text import CountVectorizer\n",
    "count_vect = CountVectorizer(stop_words=\"english\")\n",
    "X_train_counts = count_vect.fit_transform(dataset.data)\n"
   ]
  },
  {
   "cell_type": "code",
   "execution_count": 23,
   "metadata": {
    "collapsed": false
   },
   "outputs": [],
   "source": [
    "# How many times does GPU appear?\n",
    "# How many words in total does your dictionary have?\n",
    "# Which words are the most common?"
   ]
  },
  {
   "cell_type": "code",
   "execution_count": 38,
   "metadata": {
    "collapsed": false
   },
   "outputs": [],
   "source": [
    "from sklearn.feature_extraction.text import TfidfTransformer\n",
    "# Feature representation\n",
    "# TF\n",
    "tf_transformer = TfidfTransformer(use_idf=False).fit(X_train_counts)\n",
    "X_train_tf = tf_transformer.transform(X_train_counts)\n",
    "\n",
    "#TF_IDF\n",
    "tfidf_transformer = TfidfTransformer()\n",
    "X_train_tfidf = tfidf_transformer.fit_transform(X_train_counts)\n"
   ]
  },
  {
   "cell_type": "code",
   "execution_count": null,
   "metadata": {
    "collapsed": false
   },
   "outputs": [],
   "source": []
  },
  {
   "cell_type": "code",
   "execution_count": null,
   "metadata": {
    "collapsed": false
   },
   "outputs": [],
   "source": []
  },
  {
   "cell_type": "code",
   "execution_count": null,
   "metadata": {
    "collapsed": false
   },
   "outputs": [],
   "source": []
  },
  {
   "cell_type": "code",
   "execution_count": 39,
   "metadata": {
    "collapsed": false
   },
   "outputs": [],
   "source": [
    "import numpy as np\n",
    "\n",
    "dataset_test = sklearn.datasets.load_files(\"text_analytics/data/twenty_newsgroups/20news-bydate-test/\", load_content=True, shuffle=True, encoding='UTF-8', decode_error='replace', random_state=42)\n",
    "\n",
    "X_test_counts = count_vect.transform(dataset_test.data)\n",
    "X_test = tfidf_transformer.transform(X_test_counts)\n",
    "\n",
    "labels = dataset_test.target\n",
    "true_k = np.unique(labels).shape[0]"
   ]
  },
  {
   "cell_type": "code",
   "execution_count": 42,
   "metadata": {
    "collapsed": false
   },
   "outputs": [
    {
     "data": {
      "text/plain": [
       "KMeans(algorithm='auto', copy_x=True, init='k-means++', max_iter=100,\n",
       "    n_clusters=20, n_init=1, n_jobs=1, precompute_distances='auto',\n",
       "    random_state=None, tol=0.0001, verbose=0)"
      ]
     },
     "execution_count": 42,
     "metadata": {},
     "output_type": "execute_result"
    }
   ],
   "source": [
    "from sklearn.cluster import KMeans\n",
    "km = KMeans(n_clusters=true_k, init='k-means++', max_iter=100, n_init=1)\n",
    "km.fit(X_test)"
   ]
  },
  {
   "cell_type": "code",
   "execution_count": 43,
   "metadata": {
    "collapsed": false
   },
   "outputs": [
    {
     "name": "stdout",
     "output_type": "stream",
     "text": [
      "Homogeneity: 0.317\n",
      "Completeness: 0.393\n",
      "V-measure: 0.351\n",
      "Adjusted Rand-Index: 0.113\n",
      "Silhouette Coefficient: 0.006\n"
     ]
    }
   ],
   "source": [
    "from sklearn import metrics\n",
    "print(\"Homogeneity: %0.3f\" % metrics.homogeneity_score(labels, km.labels_))\n",
    "print(\"Completeness: %0.3f\" % metrics.completeness_score(labels, km.labels_))\n",
    "print(\"V-measure: %0.3f\" % metrics.v_measure_score(labels, km.labels_))\n",
    "print(\"Adjusted Rand-Index: %.3f\"\n",
    "      % metrics.adjusted_rand_score(labels, km.labels_))\n",
    "print(\"Silhouette Coefficient: %0.3f\"\n",
    "      % metrics.silhouette_score(X_test, km.labels_, sample_size=1000))\n"
   ]
  },
  {
   "cell_type": "code",
   "execution_count": 44,
   "metadata": {
    "collapsed": false
   },
   "outputs": [
    {
     "name": "stdout",
     "output_type": "stream",
     "text": [
      "Top terms per cluster:\n",
      "Cluster 0:\n",
      " game\n",
      " espn\n",
      " hockey\n",
      " team\n",
      " ca\n",
      " buffalo\n",
      " bruins\n",
      " edu\n",
      " games\n",
      " sabres\n",
      "Cluster 1:\n",
      " com\n",
      " ca\n",
      " lines\n",
      " subject\n",
      " organization\n",
      " writes\n",
      " sun\n",
      " edu\n",
      " article\n",
      " hp\n",
      "Cluster 2:\n",
      " fbi\n",
      " koresh\n",
      " cramer\n",
      " batf\n",
      " people\n",
      " optilink\n",
      " waco\n",
      " government\n",
      " edu\n",
      " com\n",
      "Cluster 3:\n",
      " cmu\n",
      " andrew\n",
      " edu\n",
      " carnegie\n",
      " mellon\n",
      " pittsburgh\n",
      " pa\n",
      " pens\n",
      " nntp\n",
      " skate\n",
      "Cluster 4:\n",
      " edu\n",
      " university\n",
      " subject\n",
      " lines\n",
      " organization\n",
      " posting\n",
      " host\n",
      " nntp\n",
      " cs\n",
      " cc\n",
      "Cluster 5:\n",
      " windows\n",
      " dos\n",
      " file\n",
      " edu\n",
      " microsoft\n",
      " os\n",
      " program\n",
      " pc\n",
      " ms\n",
      " com\n",
      "Cluster 6:\n",
      " stratus\n",
      " sw\n",
      " cdt\n",
      " com\n",
      " rocket\n",
      " vos\n",
      " tavares\n",
      " investors\n",
      " packet\n",
      " computer\n",
      "Cluster 7:\n",
      " netcom\n",
      " com\n",
      " clipper\n",
      " sternlight\n",
      " government\n",
      " chip\n",
      " david\n",
      " key\n",
      " encryption\n",
      " keys\n",
      "Cluster 8:\n",
      " uk\n",
      " ac\n",
      " mathew\n",
      " demon\n",
      " xv\n",
      " writes\n",
      " mantis\n",
      " mcc\n",
      " university\n",
      " dresden\n",
      "Cluster 9:\n",
      " car\n",
      " edu\n",
      " geico\n",
      " duke\n",
      " infante\n",
      " engine\n",
      " ford\n",
      " com\n",
      " mustang\n",
      " cars\n",
      "Cluster 10:\n",
      " edu\n",
      " uiuc\n",
      " ohio\n",
      " cleveland\n",
      " cso\n",
      " state\n",
      " magnus\n",
      " cwru\n",
      " acs\n",
      " university\n",
      "Cluster 11:\n",
      " drive\n",
      " scsi\n",
      " ide\n",
      " controller\n",
      " disk\n",
      " drives\n",
      " hard\n",
      " meg\n",
      " hd\n",
      " bus\n",
      "Cluster 12:\n",
      " israel\n",
      " muslims\n",
      " jews\n",
      " edu\n",
      " jewish\n",
      " arab\n",
      " muslim\n",
      " virginia\n",
      " serbs\n",
      " jake\n",
      "Cluster 13:\n",
      " sandvik\n",
      " apple\n",
      " kent\n",
      " newton\n",
      " chuq\n",
      " com\n",
      " alink\n",
      " ksand\n",
      " cookamunga\n",
      " tourist\n",
      "Cluster 14:\n",
      " game\n",
      " edu\n",
      " games\n",
      " pitcher\n",
      " baseball\n",
      " gant\n",
      " braves\n",
      " ball\n",
      " pitches\n",
      " com\n",
      "Cluster 15:\n",
      " henry\n",
      " toronto\n",
      " battery\n",
      " temperature\n",
      " spencer\n",
      " zoo\n",
      " concrete\n",
      " zoology\n",
      " edu\n",
      " acid\n",
      "Cluster 16:\n",
      " brian\n",
      " ge\n",
      " dartmouth\n",
      " hades\n",
      " crd\n",
      " edu\n",
      " arromdee\n",
      " arizona\n",
      " turkey\n",
      " pit\n",
      "Cluster 17:\n",
      " god\n",
      " sin\n",
      " jesus\n",
      " christ\n",
      " homosexuality\n",
      " christian\n",
      " church\n",
      " bible\n",
      " christianity\n",
      " christians\n",
      "Cluster 18:\n",
      " clutch\n",
      " bonds\n",
      " batting\n",
      " williams\n",
      " sabo\n",
      " hit\n",
      " hitter\n",
      " car\n",
      " punjabi\n",
      " hitting\n",
      "Cluster 19:\n",
      " digex\n",
      " access\n",
      " hst\n",
      " pat\n",
      " net\n",
      " shuttle\n",
      " mission\n",
      " servicing\n",
      " prb\n",
      " express\n"
     ]
    }
   ],
   "source": [
    "print(\"Top terms per cluster:\")\n",
    "\n",
    "order_centroids = km.cluster_centers_.argsort()[:, ::-1]\n",
    "\n",
    "terms = count_vect.get_feature_names()\n",
    "for i in range(true_k):\n",
    "    print(\"Cluster %d:\" % i)\n",
    "    for ind in order_centroids[i, :10]:\n",
    "        print(' %s' % terms[ind])\n"
   ]
  },
  {
   "cell_type": "code",
   "execution_count": 29,
   "metadata": {
    "collapsed": true
   },
   "outputs": [],
   "source": [
    "# The performance is pretty bad...\n",
    "# What happens if you limit the feature space? e.g. Exclude stop words?\n",
    "\n",
    "# What happens if you include all categories?\n",
    "# Which categories are most easy to cluster?\n",
    "# What happens if we don't know the number of clusters? (check out Hierarchical clustering)"
   ]
  },
  {
   "cell_type": "code",
   "execution_count": 30,
   "metadata": {
    "collapsed": true
   },
   "outputs": [],
   "source": [
    "# Can you cluster based in similarity? (Cosine distance)\n",
    "# What's a nice way to visualise this data?"
   ]
  },
  {
   "cell_type": "code",
   "execution_count": null,
   "metadata": {
    "collapsed": true
   },
   "outputs": [],
   "source": []
  }
 ],
 "metadata": {
  "kernelspec": {
   "display_name": "Python 2",
   "language": "python",
   "name": "python2"
  },
  "language_info": {
   "codemirror_mode": {
    "name": "ipython",
    "version": 2
   },
   "file_extension": ".py",
   "mimetype": "text/x-python",
   "name": "python",
   "nbconvert_exporter": "python",
   "pygments_lexer": "ipython2",
   "version": "2.7.13"
  }
 },
 "nbformat": 4,
 "nbformat_minor": 0
}
